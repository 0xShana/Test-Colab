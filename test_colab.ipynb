{
  "nbformat": 4,
  "nbformat_minor": 0,
  "metadata": {
    "colab": {
      "name": "test-colab.ipynb",
      "provenance": [],
      "authorship_tag": "ABX9TyPIqv7neHNPPfexd8ZAw3cc"
    },
    "kernelspec": {
      "name": "python3",
      "display_name": "Python 3"
    },
    "language_info": {
      "name": "python"
    }
  },
  "cells": [
    {
      "cell_type": "code",
      "metadata": {
        "id": "FMa_eEXaTOB-"
      },
      "source": [
        "import numpy as np"
      ],
      "execution_count": 1,
      "outputs": []
    },
    {
      "cell_type": "code",
      "metadata": {
        "colab": {
          "base_uri": "https://localhost:8080/"
        },
        "id": "wyrjEzCjy231",
        "outputId": "a87a9c5d-a8b7-4a95-94e1-da4691326513"
      },
      "source": [
        "np.random.rand(4,4)"
      ],
      "execution_count": 7,
      "outputs": [
        {
          "output_type": "execute_result",
          "data": {
            "text/plain": [
              "array([[0.78899247, 0.77683898, 0.12490697, 0.24200489],\n",
              "       [0.84596164, 0.70333446, 0.58296244, 0.95016342],\n",
              "       [0.89476978, 0.31781481, 0.88950673, 0.75127979],\n",
              "       [0.48723366, 0.65393158, 0.23824177, 0.38784118]])"
            ]
          },
          "metadata": {
            "tags": []
          },
          "execution_count": 7
        }
      ]
    },
    {
      "cell_type": "code",
      "metadata": {
        "id": "QMXZZc9hzA0f"
      },
      "source": [
        ""
      ],
      "execution_count": null,
      "outputs": []
    }
  ]
}